{
 "cells": [
  {
   "cell_type": "code",
   "execution_count": 14,
   "metadata": {},
   "outputs": [
    {
     "name": "stdout",
     "output_type": "stream",
     "text": [
      "['The Beatles', 'Radiohead', 'Frank Ocean', 'Tool']\n"
     ]
    }
   ],
   "source": [
    "# 1. Create a list of your favourite musicians.\n",
    "\n",
    "mus = ['The Beatles', 'Radiohead', 'Frank Ocean', 'Tool']\n",
    "\n",
    "print(mus)"
   ]
  },
  {
   "cell_type": "code",
   "execution_count": 1,
   "metadata": {},
   "outputs": [
    {
     "name": "stdout",
     "output_type": "stream",
     "text": [
      "[(32, 33), (34, 35), (36, 37)]\n"
     ]
    }
   ],
   "source": [
    "# 2. Create a list of tubples, with each tuple containing the longitude and latitude of somewhere\n",
    "\n",
    "lon_n_lat = [(32, 33), (34, 35), (36, 37)]\n",
    "\n",
    "print(lon_n_lat)"
   ]
  },
  {
   "cell_type": "code",
   "execution_count": 4,
   "metadata": {},
   "outputs": [
    {
     "data": {
      "text/plain": [
       "'The Beatles'"
      ]
     },
     "execution_count": 4,
     "metadata": {},
     "output_type": "execute_result"
    }
   ],
   "source": [
    "# 3. Create a dictionary that contains different attributes about you\n",
    "\n",
    "you = {'Height':182, 'Favourite Musician':'The Beatles', 'Masters Degree':'Machine Learning'}\n",
    "\n",
    "you['Favourite Musician']"
   ]
  },
  {
   "cell_type": "code",
   "execution_count": 34,
   "metadata": {},
   "outputs": [
    {
     "name": "stdout",
     "output_type": "stream",
     "text": [
      "It should be 'Height', 'Favourite Musician' or 'Masters Degree'\n"
     ]
    }
   ],
   "source": [
    "# 4. Write a program that lets the user ask your height, favourite colour, or favourite author, and returns the result from the dictionary you created in the previous challenge.\n",
    "\n",
    "def ques():\n",
    "    ans = input('Of height, favourite musician and masters degree, what do you want to know about you?')\n",
    "    if (ans in you) == True:\n",
    "        return you[ans]\n",
    "    else:\n",
    "        print(\"It should be 'Height', 'Favourite Musician' or 'Masters Degree'\")\n",
    "\n",
    "ques()\n",
    "\n",
    "\"\"\" Interestingly, \n",
    "\n",
    "def ques():\n",
    "    ans = input('Of height, favourite musician and masters degree, what do you want to know about you?')\n",
    "    if ans in you == True:\n",
    "        return you[ans]\n",
    "    else:\n",
    "        print(\"It should be 'Height', 'Favourite Musician' or 'Masters Degree'\")\n",
    "\n",
    "ques()\n",
    "\n",
    "doesn't work properly just because of the difference with the parentheses.\n",
    "\n",
    "\"\"\"\n"
   ]
  },
  {
   "cell_type": "code",
   "execution_count": 35,
   "metadata": {},
   "outputs": [
    {
     "name": "stdout",
     "output_type": "stream",
     "text": [
      "{'Frank Ocean': ['Thinkin Bout You', 'Self Control'], 'Radiohead': ['Paranoid Android', 'Just', 'There There'], 'Tool': ['The Pot', 'Sober']}\n"
     ]
    }
   ],
   "source": [
    "# 5. Create a dictionary mapping your favourite musicians to a list of your favourite songs by them.\n",
    "\n",
    "Frank_Ocean_songs = ['Thinkin Bout You', 'Self Control']\n",
    "Radiohead_songs = ['Paranoid Android', 'Just', 'There There']\n",
    "Tool_songs = ['The Pot', 'Sober']\n",
    "\n",
    "playlist = {'Frank Ocean':Frank_Ocean_songs, 'Radiohead':Radiohead_songs, 'Tool':Tool_songs}\n",
    "\n",
    "print(playlist)"
   ]
  },
  {
   "cell_type": "code",
   "execution_count": null,
   "metadata": {},
   "outputs": [],
   "source": [
    "# 6. Lists, tuples and dictionaries are just a few of the containers built into Python. Research Python sets (a type of container). When would you use a set?\n",
    "\n",
    "\"\"\"\n",
    "When there is a need to sort kinds of things regardless of the frequency of each of the kinds.\n",
    "\n",
    "\n",
    "\"\"\""
   ]
  },
  {
   "cell_type": "markdown",
   "metadata": {},
   "source": [
    "Answers"
   ]
  },
  {
   "cell_type": "code",
   "execution_count": null,
   "metadata": {},
   "outputs": [],
   "source": [
    "# 1\n",
    "\n",
    "fav_musicans = [\"Jay Z\", \"Adventure Club\", \"John Lennon\"]"
   ]
  },
  {
   "cell_type": "code",
   "execution_count": null,
   "metadata": {},
   "outputs": [],
   "source": [
    "# 2\n",
    "\n",
    "locations = [(40.7128, 74.0059), (31.0461, 34.8516), (8.3405, 115.0920)]"
   ]
  },
  {
   "cell_type": "code",
   "execution_count": null,
   "metadata": {},
   "outputs": [],
   "source": [
    "# 3\n",
    "\n",
    "me = {\n",
    "    \"height\": \"6\",\n",
    "    \"fav_color\": \"red\",\n",
    "    \"fav_author\": \"Orwell\"\n",
    "}"
   ]
  },
  {
   "cell_type": "code",
   "execution_count": null,
   "metadata": {},
   "outputs": [],
   "source": [
    "# 4 \n",
    "\n",
    "me = {\n",
    "    \"height\": \"6\",\n",
    "    \"fav_color\": \"red\",\n",
    "    \"fav_author\": \"Orwell\"\n",
    "}\n",
    "\n",
    "answer = input(\"Type height, fav_color or fav_author\")\n",
    "if answer in me:\n",
    "    result = me[answer]\n",
    "    print(result)"
   ]
  },
  {
   "cell_type": "code",
   "execution_count": null,
   "metadata": {},
   "outputs": [],
   "source": [
    "# 5\n",
    "\n",
    "songs = {\"John Lennon\": \"Stand by Me\",\n",
    "         \"Kanye West\": \"Homecoming\",\n",
    "         \"Swedish House Mafia\": \"Don't You Worry Child\"\n",
    "}"
   ]
  }
 ],
 "metadata": {
  "kernelspec": {
   "display_name": "Python 3",
   "language": "python",
   "name": "python3"
  },
  "language_info": {
   "codemirror_mode": {
    "name": "ipython",
    "version": 3
   },
   "file_extension": ".py",
   "mimetype": "text/x-python",
   "name": "python",
   "nbconvert_exporter": "python",
   "pygments_lexer": "ipython3",
   "version": "3.9.6"
  }
 },
 "nbformat": 4,
 "nbformat_minor": 2
}
