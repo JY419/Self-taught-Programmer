{
 "cells": [
  {
   "cell_type": "code",
   "execution_count": 2,
   "metadata": {},
   "outputs": [
    {
     "name": "stdout",
     "output_type": "stream",
     "text": [
      "What\n",
      "on\n",
      "earth\n"
     ]
    }
   ],
   "source": [
    "# 1. Print three different strings\n",
    "\n",
    "print('What')\n",
    "print('on')\n",
    "print('earth')"
   ]
  },
  {
   "cell_type": "code",
   "execution_count": 4,
   "metadata": {},
   "outputs": [
    {
     "name": "stdout",
     "output_type": "stream",
     "text": [
      "I'll get an ice cream\n"
     ]
    }
   ],
   "source": [
    "# 2. Write a program that prints a message if a variable is less than 10 and a different message if the variable is greater than or equal to 10.\n",
    "\n",
    "x = 9\n",
    "\n",
    "if x<10:\n",
    "    print(\"I'll get an ice cream\")\n",
    "else:\n",
    "    print(\"I'll get some popcorns\")\n"
   ]
  },
  {
   "cell_type": "code",
   "execution_count": 8,
   "metadata": {},
   "outputs": [
    {
     "name": "stdout",
     "output_type": "stream",
     "text": [
      "hats\n"
     ]
    }
   ],
   "source": [
    "# 3. Write a program that prints a message if a variable is less than or equal to 10, another message if the variable is greater than 10 but less than or equal to 25, and another message if the variable is greater than 25.\n",
    "\n",
    "x = 26\n",
    "\n",
    "if x<=10:\n",
    "    print(\"shirts\")\n",
    "elif x>10 and x<=25:\n",
    "    print(\"trousers\")\n",
    "else:\n",
    "    print(\"hats\")"
   ]
  },
  {
   "cell_type": "code",
   "execution_count": 16,
   "metadata": {},
   "outputs": [
    {
     "name": "stdout",
     "output_type": "stream",
     "text": [
      "0\n"
     ]
    }
   ],
   "source": [
    "# 4. Create a program that divides two variables and prints the remainder\n",
    "\n",
    "x = 6\n",
    "y = 12\n",
    "\n",
    "if x>=y:\n",
    "    print(x%y)\n",
    "else:\n",
    "    print(y%x)"
   ]
  },
  {
   "cell_type": "code",
   "execution_count": 20,
   "metadata": {},
   "outputs": [
    {
     "name": "stdout",
     "output_type": "stream",
     "text": [
      "2\n"
     ]
    }
   ],
   "source": [
    "# 5. Create a program that takes two variables, divides them and prints the quetient.\n",
    "\n",
    "x = 7\n",
    "y = 16\n",
    "\n",
    "if x>=y:\n",
    "    print(x//y)\n",
    "else:\n",
    "    print(y//x)\n",
    "\n"
   ]
  },
  {
   "cell_type": "code",
   "execution_count": 34,
   "metadata": {},
   "outputs": [
    {
     "name": "stdout",
     "output_type": "stream",
     "text": [
      "baby\n"
     ]
    }
   ],
   "source": [
    "# 6. Write a program with a variable \"age\" assigned to an integer that prints different strings depending on what integer \"age\" is.\n",
    "\n",
    "age = 0\n",
    "\n",
    "if age>=0 and age<10:\n",
    "    print('baby')\n",
    "elif age>=10 and age<20:\n",
    "    print('10s')\n",
    "elif age>=20 and age<30:\n",
    "    print('20s')\n",
    "elif age>=30 and age<40:\n",
    "    print('30s')\n",
    "elif age>=40:\n",
    "    print('40s +')\n",
    "else:\n",
    "    print('Error')"
   ]
  },
  {
   "cell_type": "code",
   "execution_count": null,
   "metadata": {},
   "outputs": [],
   "source": []
  }
 ],
 "metadata": {
  "kernelspec": {
   "display_name": "Python 3",
   "language": "python",
   "name": "python3"
  },
  "language_info": {
   "codemirror_mode": {
    "name": "ipython",
    "version": 3
   },
   "file_extension": ".py",
   "mimetype": "text/x-python",
   "name": "python",
   "nbconvert_exporter": "python",
   "pygments_lexer": "ipython3",
   "version": "3.9.6"
  }
 },
 "nbformat": 4,
 "nbformat_minor": 2
}
