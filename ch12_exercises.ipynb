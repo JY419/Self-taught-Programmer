{
 "cells": [
  {
   "cell_type": "code",
   "execution_count": 2,
   "metadata": {},
   "outputs": [],
   "source": [
    "# 1. Define a class called Apple with four instance variables that represent four attributes of an apple.\n",
    "\n",
    "class Apple():\n",
    "    def __init__(self, w, c, e, r):\n",
    "        self.weight = w\n",
    "        self.colour = c\n",
    "        self.expiry_date = e\n",
    "        self.radius = r\n",
    "\n",
    "apple1 = Apple(3, 'red', 240602, 9)"
   ]
  },
  {
   "cell_type": "code",
   "execution_count": 14,
   "metadata": {},
   "outputs": [
    {
     "name": "stdout",
     "output_type": "stream",
     "text": [
      "50.26548245743669\n"
     ]
    }
   ],
   "source": [
    "# 2. Create a Circle class with a method called area that calculates and returns its area. Then create a Circle object, call area on it, and print the reult. Use Python's pi function in the built-in math module.\n",
    "\n",
    "import math\n",
    "\n",
    "class Circle():\n",
    "    def __init__(self, r):\n",
    "        self.radius = r\n",
    "\n",
    "    def area(self):\n",
    "        area = math.pi * (self.radius**2)\n",
    "        return area\n",
    "    \n",
    "circle1 = Circle(4)\n",
    "print(circle1.area())\n"
   ]
  },
  {
   "cell_type": "code",
   "execution_count": 20,
   "metadata": {},
   "outputs": [
    {
     "name": "stdout",
     "output_type": "stream",
     "text": [
      "56.0\n"
     ]
    }
   ],
   "source": [
    "# 3. Create a Triangle class with a method called area that calculates and returns its area. Then create a Triangle object, call area on it, and print the result.\n",
    "\n",
    "class Triangle():\n",
    "    def __init__(self, b, h):\n",
    "        self.base = b\n",
    "        self.height = h\n",
    "\n",
    "    def area(self):\n",
    "        area = self.base * self.height * 0.5\n",
    "        return area\n",
    "    \n",
    "    triangle1 = Triangle(14, 8)\n",
    "    print(triangle1.area())\n",
    "\n"
   ]
  },
  {
   "cell_type": "code",
   "execution_count": 25,
   "metadata": {},
   "outputs": [
    {
     "name": "stdout",
     "output_type": "stream",
     "text": [
      "18\n"
     ]
    }
   ],
   "source": [
    "# 4. Make a Hexagon class with a method called calculate_perimeter that calculates and returns its perimeter. Then create a Hexagon object, call calculate_perimeter on it. and print the result.\n",
    "\n",
    "class Hexagon():\n",
    "    def __init__(self, s):\n",
    "        self.side = s\n",
    "\n",
    "    def calculate_perimeter(self):\n",
    "        perimeter = 6 * self.side\n",
    "        return perimeter\n",
    "    \n",
    "hexagon1 = Hexagon(3)\n",
    "print(hexagon1.calculate_perimeter())"
   ]
  },
  {
   "cell_type": "markdown",
   "metadata": {},
   "source": [
    "Answers"
   ]
  },
  {
   "cell_type": "code",
   "execution_count": null,
   "metadata": {},
   "outputs": [],
   "source": [
    "# 1. \n",
    "class Apple():\n",
    "    def __init__(self, color, weight, stem_length, circumference):\n",
    "        self.color = color\n",
    "        self.weight = weight\n",
    "        self.stem_length = stem_length\n",
    "        self.circumference = circumference"
   ]
  },
  {
   "cell_type": "code",
   "execution_count": null,
   "metadata": {},
   "outputs": [],
   "source": [
    "# 2. \n",
    "\n",
    "import math\n",
    "\n",
    "\n",
    "class Circle():\n",
    "    def __init__(self, radius):\n",
    "        self.radius = radius\n",
    "\n",
    "    def calculate_area(self):\n",
    "        return self.radius ** 2 * math.pi\n",
    "\n",
    "a_circle = Circle(4)\n",
    "print(a_circle.calculate_area())"
   ]
  },
  {
   "cell_type": "code",
   "execution_count": null,
   "metadata": {},
   "outputs": [],
   "source": [
    "# 3. \n",
    "\n",
    "class Triangle():\n",
    "    def __init__(self, base, height):\n",
    "        self.base = base\n",
    "        self.height = height\n",
    "\n",
    "    def calculate_area(self):\n",
    "        return self.height * self.base / 2\n",
    "\n",
    "a_triangle = Triangle(20, 30)\n",
    "print(a_triangle.calculate_area())"
   ]
  },
  {
   "cell_type": "code",
   "execution_count": null,
   "metadata": {},
   "outputs": [],
   "source": [
    "# 4. \n",
    "\n",
    "class Hexagon():\n",
    "    def __init__(self, s1, s2, s3, s4, s5, s6):\n",
    "        self.s1 = s1\n",
    "        self.s2 = s2\n",
    "        self.s3 = s3\n",
    "        self.s4 = s4\n",
    "        self.s5 = s5\n",
    "        self.s6 = s6\n",
    "\n",
    "    def calculate_perimeter(self):\n",
    "        return self.s1 + self.s2 + self.s3 + self.s4 + self.s5 + self.s6\n",
    "\n",
    "a_hexagon = Hexagon(1, 2, 3, 4, 5, 6)\n",
    "print(a_hexagon.calculate_perimeter())"
   ]
  }
 ],
 "metadata": {
  "kernelspec": {
   "display_name": "Python 3",
   "language": "python",
   "name": "python3"
  },
  "language_info": {
   "codemirror_mode": {
    "name": "ipython",
    "version": 3
   },
   "file_extension": ".py",
   "mimetype": "text/x-python",
   "name": "python",
   "nbconvert_exporter": "python",
   "pygments_lexer": "ipython3",
   "version": "3.9.6"
  }
 },
 "nbformat": 4,
 "nbformat_minor": 2
}
