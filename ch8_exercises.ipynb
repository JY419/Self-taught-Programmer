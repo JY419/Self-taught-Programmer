{
 "cells": [
  {
   "cell_type": "code",
   "execution_count": 4,
   "metadata": {},
   "outputs": [
    {
     "data": {
      "text/plain": [
       "3"
      ]
     },
     "execution_count": 4,
     "metadata": {},
     "output_type": "execute_result"
    }
   ],
   "source": [
    "# 1. Call a different function from the statistics module.\n",
    "\n",
    "import statistics\n",
    "\n",
    "lis = [2, 3, 4, 4, 4, 3, 6, 9, 3 ,3]\n",
    "\n",
    "statistics.mode(lis)"
   ]
  },
  {
   "cell_type": "code",
   "execution_count": 11,
   "metadata": {},
   "outputs": [
    {
     "data": {
      "text/plain": [
       "16"
      ]
     },
     "execution_count": 11,
     "metadata": {},
     "output_type": "execute_result"
    }
   ],
   "source": [
    "# 2. Create a module named cubed with a function that takes a number as a parameter, and returns the number cubed. Import and call the function from another module.\n",
    "\n",
    "import cubed\n",
    "\n",
    "cubed.cubing(2)"
   ]
  },
  {
   "cell_type": "markdown",
   "metadata": {},
   "source": [
    "Answers"
   ]
  },
  {
   "cell_type": "code",
   "execution_count": null,
   "metadata": {},
   "outputs": [],
   "source": [
    "# 1.\n",
    "import statistics\n",
    "\n",
    "data = [14, 3, 11, 133, 4]\n",
    "\n",
    "result = statistics.median_low(data)\n",
    "\n",
    "print(result)"
   ]
  },
  {
   "cell_type": "code",
   "execution_count": 12,
   "metadata": {},
   "outputs": [
    {
     "ename": "AttributeError",
     "evalue": "module 'cubed' has no attribute 'cube_it'",
     "output_type": "error",
     "traceback": [
      "\u001b[0;31m---------------------------------------------------------------------------\u001b[0m",
      "\u001b[0;31mAttributeError\u001b[0m                            Traceback (most recent call last)",
      "\u001b[1;32m/Users/Lab/Documents/the_self_taught_programmer_exercises/ch8_exercises.ipynb Cell 5\u001b[0m line \u001b[0;36m4\n\u001b[1;32m      <a href='vscode-notebook-cell:/Users/Lab/Documents/the_self_taught_programmer_exercises/ch8_exercises.ipynb#W5sZmlsZQ%3D%3D?line=0'>1</a>\u001b[0m \u001b[39m# 2.\u001b[39;00m\n\u001b[1;32m      <a href='vscode-notebook-cell:/Users/Lab/Documents/the_self_taught_programmer_exercises/ch8_exercises.ipynb#W5sZmlsZQ%3D%3D?line=1'>2</a>\u001b[0m \u001b[39mimport\u001b[39;00m \u001b[39mcubed\u001b[39;00m\n\u001b[0;32m----> <a href='vscode-notebook-cell:/Users/Lab/Documents/the_self_taught_programmer_exercises/ch8_exercises.ipynb#W5sZmlsZQ%3D%3D?line=3'>4</a>\u001b[0m result \u001b[39m=\u001b[39m cubed\u001b[39m.\u001b[39;49mcube_it(\u001b[39m3\u001b[39m)\n\u001b[1;32m      <a href='vscode-notebook-cell:/Users/Lab/Documents/the_self_taught_programmer_exercises/ch8_exercises.ipynb#W5sZmlsZQ%3D%3D?line=4'>5</a>\u001b[0m \u001b[39mprint\u001b[39m(result)\n",
      "\u001b[0;31mAttributeError\u001b[0m: module 'cubed' has no attribute 'cube_it'"
     ]
    }
   ],
   "source": [
    "# 2.\n",
    "import cubed\n",
    "\n",
    "result = cubed.cube_it(3)\n",
    "print(result)"
   ]
  }
 ],
 "metadata": {
  "kernelspec": {
   "display_name": "Python 3",
   "language": "python",
   "name": "python3"
  },
  "language_info": {
   "codemirror_mode": {
    "name": "ipython",
    "version": 3
   },
   "file_extension": ".py",
   "mimetype": "text/x-python",
   "name": "python",
   "nbconvert_exporter": "python",
   "pygments_lexer": "ipython3",
   "version": "3.9.6"
  }
 },
 "nbformat": 4,
 "nbformat_minor": 2
}
