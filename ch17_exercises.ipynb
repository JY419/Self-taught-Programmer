{
 "cells": [
  {
   "cell_type": "code",
   "execution_count": 8,
   "metadata": {},
   "outputs": [
    {
     "data": {
      "text/plain": [
       "['Dutch']"
      ]
     },
     "execution_count": 8,
     "metadata": {},
     "output_type": "execute_result"
    }
   ],
   "source": [
    "# 1. Write a regular expression that matches the word Dutch in 'The Zen of Python'.\n",
    "\n",
    "import re\n",
    "\n",
    "tex = \"Beautiful is better than ugly. \\\n",
    "Explicit is better than implicit.\\\n",
    "Simple is better than complex.\\\n",
    "Complex is better than complicated.\\\n",
    "Flat is better than nested.\\\n",
    "Sparse is better than dense.\\\n",
    "Readability counts.\\\n",
    "Special cases aren't special enough to break the rules.\\\n",
    "Although practicality beats purity.\\\n",
    "Errors should never pass silently.\\\n",
    "Unless explicitly silenced.\\\n",
    "In the face of ambiguity, refuse the temptation to guess.\\\n",
    "There should be one-- and preferably only one --obvious way to do it.\\\n",
    "Although that way may not be obvious at first unless you're Dutch.\\\n",
    "Now is better than never.\\\n",
    "Although never is often better than *right* now.\\\n",
    "If the implementation is hard to explain, it's a bad idea.\\\n",
    "If the implementation is easy to explain, it may be a good idea.\\\n",
    "Namespaces are one honking great idea -- let's do more of those!\"\n",
    "\n",
    "matches = re.findall(\"Dutch\", tex)\n",
    "\n",
    "matches"
   ]
  },
  {
   "cell_type": "code",
   "execution_count": 10,
   "metadata": {},
   "outputs": [
    {
     "data": {
      "text/plain": [
       "['4',\n",
       " '7',\n",
       " '9',\n",
       " '5',\n",
       " '0',\n",
       " '1',\n",
       " '8',\n",
       " '7',\n",
       " '0',\n",
       " '2',\n",
       " '0',\n",
       " '9',\n",
       " '2',\n",
       " '1',\n",
       " '3',\n",
       " '6',\n",
       " '5',\n",
       " '0']"
      ]
     },
     "execution_count": 10,
     "metadata": {},
     "output_type": "execute_result"
    }
   ],
   "source": [
    "# Come up with a regular expression that matches all the digits in the string Arizona 479, 501, 870, California 209, 213, 650\n",
    "\n",
    "tex = \"Arizona 479, 501, 870, California 209, 213, 650\"\n",
    "\n",
    "dig = re.findall(\"\\d\", tex, re.IGNORECASE)\n",
    "\n",
    "dig"
   ]
  },
  {
   "cell_type": "code",
   "execution_count": 16,
   "metadata": {},
   "outputs": [
    {
     "data": {
      "text/plain": [
       "['boo', 'loo']"
      ]
     },
     "execution_count": 16,
     "metadata": {},
     "output_type": "execute_result"
    }
   ],
   "source": [
    "# 3. Create a regular expression that matches any word that starts with any character and is followed by two o's. \n",
    "#Then use Pythons's re module to match boo and loo in the sentence The ghost that says boo haunts the loo.\n",
    "\n",
    "sen = \"The ghost that says boo haunts the loo.\"\n",
    "\n",
    "fi = re.findall(\".oo\", sen)\n",
    "\n",
    "fi"
   ]
  },
  {
   "cell_type": "markdown",
   "metadata": {},
   "source": [
    "Answers"
   ]
  },
  {
   "cell_type": "code",
   "execution_count": null,
   "metadata": {},
   "outputs": [],
   "source": [
    "# 1. \n",
    "\n",
    "\"\"\" (In Bash)\n",
    "grep Dutch zen.txt\n",
    "\"\"\""
   ]
  },
  {
   "cell_type": "code",
   "execution_count": null,
   "metadata": {},
   "outputs": [],
   "source": [
    "# 2.\n",
    "\n",
    "\"\"\" (In Bash)\n",
    "echo Arizona: 479, 501, 870. California: 209, 213, 650. | grep [[:digit:]]\n",
    "\"\"\"\n"
   ]
  },
  {
   "cell_type": "code",
   "execution_count": null,
   "metadata": {},
   "outputs": [],
   "source": [
    "# 3.\n",
    "\n",
    "import re\n",
    "\n",
    "match = re.findall(\".oo\", \"The ghost that says boo haunts the loo.\")\n",
    "print(match)"
   ]
  }
 ],
 "metadata": {
  "kernelspec": {
   "display_name": "Python 3",
   "language": "python",
   "name": "python3"
  },
  "language_info": {
   "codemirror_mode": {
    "name": "ipython",
    "version": 3
   },
   "file_extension": ".py",
   "mimetype": "text/x-python",
   "name": "python",
   "nbconvert_exporter": "python",
   "pygments_lexer": "ipython3",
   "version": "3.9.6"
  }
 },
 "nbformat": 4,
 "nbformat_minor": 2
}
