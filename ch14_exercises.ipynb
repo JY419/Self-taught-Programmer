{
 "cells": [
  {
   "cell_type": "code",
   "execution_count": 6,
   "metadata": {},
   "outputs": [],
   "source": [
    "# 1. Add a square_list class variable to a class called Square so that every time you create a new Square object, the new object gets added to the list.\n",
    "\n",
    "class Square:\n",
    "    lis = []\n",
    "\n",
    "    def __init__(self, s):\n",
    "        self.side = s\n",
    "        self.lis.append(self)\n",
    "\n",
    "\n"
   ]
  },
  {
   "cell_type": "code",
   "execution_count": 29,
   "metadata": {},
   "outputs": [],
   "source": [
    "# 2. Change the Square class so that when you print a Square object, a message prints telling you the len of each of the four sides of the shape. \n",
    "# For example, if you creat a square with Square(29) and print it, Python should print 29 by 29 by 29 by 29.\n",
    "\n",
    "class Square:\n",
    "\n",
    "    def __init__(self, s):\n",
    "        self.side = s\n",
    "\n",
    "    def __repr__(self):\n",
    "        return \"{0} by {0} by {0} by {0}\".format(self.side)"
   ]
  },
  {
   "cell_type": "code",
   "execution_count": 41,
   "metadata": {},
   "outputs": [],
   "source": [
    "# 3. Write a function that takes two objects as parameters and returns True if they are the same object, and False if not.\n",
    "\n",
    "def func1(a, b):\n",
    "    return a is b"
   ]
  },
  {
   "cell_type": "markdown",
   "metadata": {},
   "source": [
    "Answers"
   ]
  },
  {
   "cell_type": "code",
   "execution_count": 48,
   "metadata": {},
   "outputs": [
    {
     "name": "stdout",
     "output_type": "stream",
     "text": [
      "[<__main__.Square object at 0x108ed5ac0>]\n",
      "[<__main__.Square object at 0x108ed5ac0>, <__main__.Square object at 0x108edf4f0>]\n"
     ]
    }
   ],
   "source": [
    "# 1.\n",
    "\n",
    "class Shape():\n",
    "    def what_am_i(self):\n",
    "        print(\"I am a shape.\")\n",
    "\n",
    "\n",
    "class Square(Shape):\n",
    "    square_list = []\n",
    "\n",
    "    def __init__(self, s1):\n",
    "        self.s1 = s1\n",
    "        self.square_list.append(self)\n",
    "\n",
    "    def calculate_perimeter(self):\n",
    "        return self.s1 * 4\n",
    "\n",
    "    def what_am_i(self):\n",
    "        super().what_am_i()\n",
    "        print(\"I am a Square.\")\n",
    "\n",
    "\n",
    "a_square = Square(29)\n",
    "print(Square.square_list)\n",
    "another_square = Square(93)\n",
    "print(Square.square_list)"
   ]
  },
  {
   "cell_type": "code",
   "execution_count": 49,
   "metadata": {},
   "outputs": [
    {
     "name": "stdout",
     "output_type": "stream",
     "text": [
      "29 by 29 by 29 by 29\n"
     ]
    }
   ],
   "source": [
    "# 2. \n",
    "\n",
    "class Shape():\n",
    "    def what_am_i(self):\n",
    "        print(\"I am a shape.\")\n",
    "\n",
    "\n",
    "class Square(Shape):\n",
    "    square_list = []\n",
    "\n",
    "    def __init__(self, s1):\n",
    "        self.s1 = s1\n",
    "        self.square_list.append(self)\n",
    "\n",
    "    def calculate_perimeter(self):\n",
    "        return self.s1 * 4\n",
    "\n",
    "    def what_am_i(self):\n",
    "        super().what_am_i()\n",
    "        print(\"I am a Square.\")\n",
    "\n",
    "    def __repr__(self):\n",
    "        return \"{} by {} by {} by {}\".format(self.s1, self.s1, self.s1, self.s1)\n",
    "\n",
    "a_square = Square(29)\n",
    "print(a_square)"
   ]
  },
  {
   "cell_type": "code",
   "execution_count": 53,
   "metadata": {},
   "outputs": [
    {
     "name": "stdout",
     "output_type": "stream",
     "text": [
      "False\n"
     ]
    }
   ],
   "source": [
    "# 3. \n",
    "\n",
    "def compare(obj1, obj2):\n",
    "    return obj1 is obj2\n",
    "\n",
    "print(compare(\"a\", \"b\"))"
   ]
  },
  {
   "cell_type": "code",
   "execution_count": null,
   "metadata": {},
   "outputs": [],
   "source": []
  }
 ],
 "metadata": {
  "kernelspec": {
   "display_name": "Python 3",
   "language": "python",
   "name": "python3"
  },
  "language_info": {
   "codemirror_mode": {
    "name": "ipython",
    "version": 3
   },
   "file_extension": ".py",
   "mimetype": "text/x-python",
   "name": "python",
   "nbconvert_exporter": "python",
   "pygments_lexer": "ipython3",
   "version": "3.9.6"
  }
 },
 "nbformat": 4,
 "nbformat_minor": 2
}
