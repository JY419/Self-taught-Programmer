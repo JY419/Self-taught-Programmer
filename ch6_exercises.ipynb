{
 "cells": [
  {
   "cell_type": "code",
   "execution_count": 6,
   "metadata": {},
   "outputs": [
    {
     "name": "stdout",
     "output_type": "stream",
     "text": [
      "C\n",
      "a\n",
      "m\n",
      "u\n",
      "s\n"
     ]
    }
   ],
   "source": [
    "# 1. Print every character in the string <<Camus>>\n",
    "\n",
    "word = 'Camus'\n",
    "\n",
    "print(word[0])\n",
    "print(word[1])\n",
    "print(word[2])\n",
    "print(word[3])\n",
    "print(word[4])"
   ]
  },
  {
   "cell_type": "code",
   "execution_count": 8,
   "metadata": {},
   "outputs": [
    {
     "name": "stdout",
     "output_type": "stream",
     "text": [
      "Yesterday I wrote a song. I sent it to label!\n"
     ]
    }
   ],
   "source": [
    "# 2. Write a program that collects two strings from a user, inserts them into the string \"Yesterday I wrote a [response_one]. I sent it to [response_two]!\" and print a new string.\n",
    "\n",
    "response_one = input()\n",
    "response_two = input()\n",
    "\n",
    "y = \"Yesterday I wrote a {}. I sent it to {}!\".format(response_one, response_two)\n",
    "print(y)"
   ]
  },
  {
   "cell_type": "code",
   "execution_count": 11,
   "metadata": {},
   "outputs": [
    {
     "data": {
      "text/plain": [
       "'Aldous huxley was born in 1894.'"
      ]
     },
     "execution_count": 11,
     "metadata": {},
     "output_type": "execute_result"
    }
   ],
   "source": [
    "# 3. Use a method to make the string \"aldous Huxley was born in 1894.\" grammatically correct by capitalising the first letter in the sentence.\n",
    "\n",
    "\"aldous Huxley was born in 1894.\".capitalize()"
   ]
  },
  {
   "cell_type": "code",
   "execution_count": 14,
   "metadata": {},
   "outputs": [
    {
     "ename": "ValueError",
     "evalue": "empty separator",
     "output_type": "error",
     "traceback": [
      "\u001b[0;31m---------------------------------------------------------------------------\u001b[0m",
      "\u001b[0;31mValueError\u001b[0m                                Traceback (most recent call last)",
      "\u001b[1;32m/Users/Lab/Documents/the_self_taught_programmer_exercises/ch6_exercises.ipynb Cell 4\u001b[0m line \u001b[0;36m3\n\u001b[1;32m      <a href='vscode-notebook-cell:/Users/Lab/Documents/the_self_taught_programmer_exercises/ch6_exercises.ipynb#W3sZmlsZQ%3D%3D?line=0'>1</a>\u001b[0m \u001b[39m# 4. Take the string \"Where now? Who now? When now?\" and call a method that returns a list that looks like: [\"Where now?\", \"Who now?\", \"When now?\"]\u001b[39;00m\n\u001b[0;32m----> <a href='vscode-notebook-cell:/Users/Lab/Documents/the_self_taught_programmer_exercises/ch6_exercises.ipynb#W3sZmlsZQ%3D%3D?line=2'>3</a>\u001b[0m \u001b[39m\"\u001b[39;49m\u001b[39mWhere now? Who now? When now?\u001b[39;49m\u001b[39m\"\u001b[39;49m\u001b[39m.\u001b[39;49msplit(\u001b[39m\"\u001b[39;49m\u001b[39m\"\u001b[39;49m)\n",
      "\u001b[0;31mValueError\u001b[0m: empty separator"
     ]
    }
   ],
   "source": [
    "# 4. Take the string \"Where now? Who now? When now?\" and call a method that returns a list that looks like: [\"Where now?\", \"Who now?\", \"When now?\"]\n",
    "\n",
    "\"Where now? Who now? When now?\".split(\"\")\n",
    "\n",
    "# What to use for the splitter?"
   ]
  },
  {
   "cell_type": "code",
   "execution_count": 20,
   "metadata": {},
   "outputs": [
    {
     "name": "stdout",
     "output_type": "stream",
     "text": [
      "The fox jumped over the fence.\n"
     ]
    }
   ],
   "source": [
    "# 5. Take the list ['The', 'fox', 'jumped', 'over', 'the', 'fence', '.'] and turn it into a grammatically correct string. \n",
    "# There should be a space between each word, but no space between the word fence and the full stop that follows it.\n",
    "# (Don't forget, you learned a method that turns a list of strings into a single string.)\n",
    "\n",
    "words = ['The', 'fox', 'jumped', 'over', 'the', 'fence', '.']\n",
    "\n",
    "sen = \" \".join(words)\n",
    "\n",
    "sen = sen.replace(\" .\", \".\")\n",
    "\n",
    "print(sen)"
   ]
  },
  {
   "cell_type": "code",
   "execution_count": 21,
   "metadata": {},
   "outputs": [
    {
     "name": "stdout",
     "output_type": "stream",
     "text": [
      "A $creaming come$ acro$$ the $ky.\n"
     ]
    }
   ],
   "source": [
    "# 6. Replace every instance of 's' in 'A screaming comes across the sky.' with a dollar sign.\n",
    "\n",
    "sen = 'A screaming comes across the sky.'\n",
    "\n",
    "sen = sen.replace('s', '$')\n",
    "\n",
    "print(sen)"
   ]
  },
  {
   "cell_type": "code",
   "execution_count": 22,
   "metadata": {},
   "outputs": [
    {
     "data": {
      "text/plain": [
       "2"
      ]
     },
     "execution_count": 22,
     "metadata": {},
     "output_type": "execute_result"
    }
   ],
   "source": [
    "# 7. Use a method to find the first index of the character 'm' in the string 'Hemingway'.\n",
    "\n",
    "'Hemingway'.index(\"m\")"
   ]
  },
  {
   "cell_type": "code",
   "execution_count": 24,
   "metadata": {},
   "outputs": [
    {
     "data": {
      "text/plain": [
       "'A: This sentence should not be mentioned in any Python script. B: Is that you being \"future-proof\"?'"
      ]
     },
     "execution_count": 24,
     "metadata": {},
     "output_type": "execute_result"
    }
   ],
   "source": [
    "# 8. Find dialogue in your favourite book (containing quotes) and turn it into a string.\n",
    "\n",
    "\"A: This sentence should not be mentioned in any Python script. B: Is that you being \\\"future-proof\\\"?\""
   ]
  },
  {
   "cell_type": "code",
   "execution_count": 28,
   "metadata": {},
   "outputs": [
    {
     "name": "stdout",
     "output_type": "stream",
     "text": [
      "Sentence 1 is three three three \n",
      "Sentence 2 is three three three \n"
     ]
    }
   ],
   "source": [
    "# 9. Create the string \"three three three\" using concatenation, and then again using multiplication.\n",
    "\n",
    "word = 'three '\n",
    "\n",
    "sen1 = word + word + word\n",
    "\n",
    "print('Sentence 1 is', sen1)\n",
    "\n",
    "sen2 = word * 3\n",
    "\n",
    "print('Sentence 2 is', sen2)\n",
    "\n",
    "# What to do with the space at the end?"
   ]
  },
  {
   "cell_type": "code",
   "execution_count": 30,
   "metadata": {},
   "outputs": [
    {
     "name": "stdout",
     "output_type": "stream",
     "text": [
      "It was a bright cold day in April\n"
     ]
    }
   ],
   "source": [
    "# 10. Slice the string \"It was a bright cold day in April, and the clocks were striking thirteen.\" to only include the characters before the comma.\n",
    "\n",
    "sen1 = \"It was a bright cold day in April, and the clocks were striking thirteen.\"\n",
    "\n",
    "ind = sen1.index(',')\n",
    "\n",
    "sen2 = sen[:ind]\n",
    "\n",
    "print(sen2)"
   ]
  },
  {
   "cell_type": "markdown",
   "metadata": {},
   "source": [
    "Answers"
   ]
  },
  {
   "cell_type": "code",
   "execution_count": null,
   "metadata": {},
   "outputs": [],
   "source": [
    "# 1.\n",
    "\n",
    "author = \"Camus\"\n",
    "print(author[0])\n",
    "print(author[1])\n",
    "print(author[2])\n",
    "print(author[3])\n",
    "print(author[4])"
   ]
  },
  {
   "cell_type": "code",
   "execution_count": null,
   "metadata": {},
   "outputs": [],
   "source": [
    "# 2. \n",
    "\n",
    "answer1 = input(\"What did you write yesterday?\")\n",
    "answer2 = input(\"Where did you go yesterday?\")\n",
    "\n",
    "new_string = \"Yesterday I wrote a {}. I sent it to {}.\".format(answer1, answer2)\n",
    "\n",
    "print(new_string)"
   ]
  },
  {
   "cell_type": "code",
   "execution_count": 33,
   "metadata": {},
   "outputs": [
    {
     "name": "stdout",
     "output_type": "stream",
     "text": [
      "Aldous Huxley Was Born In 1894. He Was Born In The United Kingdom.\n"
     ]
    }
   ],
   "source": [
    "# 3. \n",
    "\n",
    "x = \"aldous huxley was born in 1894. he was born in the United Kingdom.\".title()\n",
    "print(x)"
   ]
  },
  {
   "cell_type": "code",
   "execution_count": 34,
   "metadata": {},
   "outputs": [
    {
     "name": "stdout",
     "output_type": "stream",
     "text": [
      "['Where now', ' Who now', ' When now', '']\n"
     ]
    }
   ],
   "source": [
    "# 4. \n",
    "\n",
    "lst = \"Where now? Who now? When now?\".split(\"?\")\n",
    "print(lst)"
   ]
  },
  {
   "cell_type": "code",
   "execution_count": 36,
   "metadata": {},
   "outputs": [
    {
     "name": "stdout",
     "output_type": "stream",
     "text": [
      "The fox jumped over the fence .\n"
     ]
    }
   ],
   "source": [
    "# 5.\n",
    "\n",
    "fox = [\"The\", \"fox\", \"jumped\", \"over\", \"the\", \"fence\", \".\"]\n",
    "fox = \" \".join(fox)\n",
    "fox = fox[0: -2] + \".\"\n",
    "print(fox)"
   ]
  },
  {
   "cell_type": "code",
   "execution_count": 38,
   "metadata": {},
   "outputs": [
    {
     "name": "stdout",
     "output_type": "stream",
     "text": [
      "A $creaming come$ acro$$ the $ky.\n"
     ]
    }
   ],
   "source": [
    "# 6. \n",
    "\n",
    "sentence = \"A screaming comes across the sky.\"\n",
    "sentence = sentence.replace(\"s\", \"$\")\n",
    "print(sentence)"
   ]
  },
  {
   "cell_type": "code",
   "execution_count": 39,
   "metadata": {},
   "outputs": [
    {
     "name": "stdout",
     "output_type": "stream",
     "text": [
      "0\n"
     ]
    }
   ],
   "source": [
    "# 7.\n",
    "\n",
    "first_index = \"Hemingway\".index(\"H\")\n",
    "print(first_index)"
   ]
  },
  {
   "cell_type": "code",
   "execution_count": 40,
   "metadata": {},
   "outputs": [],
   "source": [
    "# 8. \n",
    "\n",
    "quote1 = \"'Drink up,' said Ford, 'you've got three pints to get through.'\"\n",
    "quote2 = \"'I forgot,' Lennie said softly. 'I tried not to forget. Honest to God I did, George.'\"\n",
    "quote3 = \"'Yes,' I said, 'I have a reason,' and added very softly, 'My God.'\""
   ]
  },
  {
   "cell_type": "code",
   "execution_count": 41,
   "metadata": {},
   "outputs": [
    {
     "name": "stdout",
     "output_type": "stream",
     "text": [
      "threethreethree\n",
      "threethreethree\n"
     ]
    }
   ],
   "source": [
    "# 9.\n",
    "\n",
    "concat = \"three\" + \"three\" + \"three\"\n",
    "mult = \"three\" * 3\n",
    "\n",
    "print(concat)\n",
    "print(mult)"
   ]
  },
  {
   "cell_type": "code",
   "execution_count": 42,
   "metadata": {},
   "outputs": [
    {
     "name": "stdout",
     "output_type": "stream",
     "text": [
      "It was a bright cold day in April\n"
     ]
    }
   ],
   "source": [
    "# 10.\n",
    "\n",
    "sentence = \"It was a bright cold day in April, and the clocks were striking thirteen.\"\n",
    "slce = sentence[0:33]\n",
    "print(slce)"
   ]
  }
 ],
 "metadata": {
  "kernelspec": {
   "display_name": "Python 3",
   "language": "python",
   "name": "python3"
  },
  "language_info": {
   "codemirror_mode": {
    "name": "ipython",
    "version": 3
   },
   "file_extension": ".py",
   "mimetype": "text/x-python",
   "name": "python",
   "nbconvert_exporter": "python",
   "pygments_lexer": "ipython3",
   "version": "3.9.6"
  }
 },
 "nbformat": 4,
 "nbformat_minor": 2
}
