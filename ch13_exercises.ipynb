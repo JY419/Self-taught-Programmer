{
 "cells": [
  {
   "cell_type": "code",
   "execution_count": 4,
   "metadata": {},
   "outputs": [
    {
     "name": "stdout",
     "output_type": "stream",
     "text": [
      "The perimeter of rectangle1 is  14\n",
      "The perimeter of square1 is  20\n"
     ]
    }
   ],
   "source": [
    "# 1. Create Rectangle and Square classes with a method called calculate_perimeter that calculates the perimeter of the shapes they represent. Create Rectangle and Square objects and call the \n",
    "# method on both of them.\n",
    "\n",
    "class Rectangle():\n",
    "    def __init__(self, s1, s2):\n",
    "        self.side1 = s1\n",
    "        self.side2 = s2\n",
    "\n",
    "    def calculate_perimeter(self):\n",
    "        return (self.side1 + self.side2) * 2\n",
    "    \n",
    "class Square():\n",
    "    def __init__(self, s):\n",
    "        self.side = s\n",
    "\n",
    "    def calculate_perimeter(self):\n",
    "        return self.side * 4\n",
    "    \n",
    "\n",
    "rectangle1 = Rectangle(3, 4)\n",
    "square1 = Square(5)\n",
    "\n",
    "print('The perimeter of rectangle1 is ', rectangle1.calculate_perimeter())\n",
    "print('The perimeter of square1 is ', square1.calculate_perimeter())"
   ]
  },
  {
   "cell_type": "code",
   "execution_count": 25,
   "metadata": {},
   "outputs": [
    {
     "name": "stdout",
     "output_type": "stream",
     "text": [
      "24\n",
      "44\n"
     ]
    }
   ],
   "source": [
    "# 2. Define a method in your Square class called change_size that allows you to pass in a number that increases or decreases (if the number is negative) each side of a Square object by that number.\n",
    "\n",
    "class Square():\n",
    "    def __init__(self, s):\n",
    "        self.side = s\n",
    "\n",
    "    def calculate_perimeter(self):\n",
    "        return self.side * 4\n",
    "    \n",
    "    def change_size(self, a):\n",
    "        self.side = self.side + a\n",
    "\n",
    "square2 = Square(6)\n",
    "\n",
    "print(square2.calculate_perimeter())\n",
    "square2.change_size(5)\n",
    "print(square2.calculate_perimeter())"
   ]
  },
  {
   "cell_type": "code",
   "execution_count": 57,
   "metadata": {},
   "outputs": [
    {
     "name": "stdout",
     "output_type": "stream",
     "text": [
      "I am a shape\n",
      "I am a shape\n"
     ]
    }
   ],
   "source": [
    "# 3. Create a class called Shape. Define a method in it called what_am_i that prints \"I am a shape\" when called. Change your Square and Rectangle classes from the previous challenges to inherit from Shape, \n",
    "# create Square and Rectangle objects, and call the new method on both of them.\n",
    "\n",
    "class Shape():\n",
    "    def __init__(self, a, b):\n",
    "        self.width = a\n",
    "        self.length = b\n",
    "\n",
    "    def what_am_i(self):\n",
    "        print(\"I am a shape\")\n",
    "\n",
    "class Rectangle(Shape):\n",
    "    def __init__(self, s1, s2):\n",
    "        self.side1 = s1\n",
    "        self.side2 = s2\n",
    "\n",
    "    def calculate_perimeter(self):\n",
    "        return (self.side1 + self.side2) * 2\n",
    "\n",
    "class Square(Shape):\n",
    "    def __init__(self, s):\n",
    "        self.side = s\n",
    "\n",
    "    def calculate_perimeter(self):\n",
    "        return self.side * 4\n",
    "    \n",
    "    def change_size(self, a):\n",
    "        self.side = self.side + a\n",
    "\n",
    "rec3 = Rectangle(6, 7)\n",
    "squ3 = Square(8)\n",
    "\n",
    "rec3.what_am_i()\n",
    "squ3.what_am_i()"
   ]
  },
  {
   "cell_type": "code",
   "execution_count": 59,
   "metadata": {},
   "outputs": [
    {
     "name": "stdout",
     "output_type": "stream",
     "text": [
      "Kate\n"
     ]
    }
   ],
   "source": [
    "# 4. Create a class called Horse and a class called Rider. Use composition to model a horse that has a rider.\n",
    "\n",
    "class Horse():\n",
    "    def __init__(self, a, b):\n",
    "        self.name = a\n",
    "        self.rider = b\n",
    "\n",
    "class Rider():\n",
    "    def __init__(self, a):\n",
    "        self.name = a\n",
    "\n",
    "kate = Rider('Kate')\n",
    "j = Horse('J', kate)\n",
    "\n",
    "print(j.rider.name)"
   ]
  },
  {
   "cell_type": "markdown",
   "metadata": {},
   "source": [
    "Answers"
   ]
  },
  {
   "cell_type": "code",
   "execution_count": null,
   "metadata": {},
   "outputs": [],
   "source": [
    "# 1. \n",
    "\n",
    "class Rectangle():\n",
    "    def __init__(self, width, length):\n",
    "        self.width = width\n",
    "        self.length = length\n",
    "\n",
    "    def calculate_perimeter(self):\n",
    "        return self.width * 2 + self.length * 2\n",
    "\n",
    "\n",
    "class Square():\n",
    "    def __init__(self, s1):\n",
    "        self.s1 = s1\n",
    "\n",
    "    def calculate_perimeter(self):\n",
    "        return self.s1 * 4\n",
    "\n",
    "a_rectangle = Rectangle(25, 50)\n",
    "a_square = Square(20)\n",
    "\n",
    "print(a_rectangle.calculate_perimeter())\n",
    "print(a_square.calculate_perimeter())"
   ]
  },
  {
   "cell_type": "code",
   "execution_count": null,
   "metadata": {},
   "outputs": [],
   "source": [
    "# 2. \n",
    "\n",
    "class Square():\n",
    "    def __init__(self, s1):\n",
    "        self.s1 = s1\n",
    "\n",
    "    def calculate_perimeter(self):\n",
    "        return self.s1 * 4\n",
    "\n",
    "    def change_size(self, new_size):\n",
    "        self.s1 += new_size\n",
    "\n",
    "a_square = Square(100)\n",
    "print(a_square.s1)\n",
    "\n",
    "a_square.change_size(200)\n",
    "print(a_square.s1)"
   ]
  },
  {
   "cell_type": "code",
   "execution_count": 60,
   "metadata": {},
   "outputs": [
    {
     "name": "stdout",
     "output_type": "stream",
     "text": [
      "I am a shape.\n",
      "I am a shape.\n"
     ]
    }
   ],
   "source": [
    "# 3.\n",
    "\n",
    "class Shape():\n",
    "    def what_am_i(self):\n",
    "        print(\"I am a shape.\")\n",
    "\n",
    "\n",
    "class Rectangle(Shape):\n",
    "    def __init__(self, width, length):\n",
    "        self.width = width\n",
    "        self.length = length\n",
    "\n",
    "    def calculate_perimeter(self):\n",
    "        return self.width * 2 + self.length * 2\n",
    "\n",
    "\n",
    "class Square(Shape):\n",
    "    def __init__(self, s1):\n",
    "        self.s1 = s1\n",
    "\n",
    "    def calculate_perimeter(self):\n",
    "        return self.s1 * 4\n",
    "\n",
    "a_rectangle = Rectangle(20, 50)\n",
    "a_square = Square(29)\n",
    "\n",
    "a_rectangle.what_am_i()\n",
    "a_square.what_am_i()\n"
   ]
  },
  {
   "cell_type": "code",
   "execution_count": 61,
   "metadata": {},
   "outputs": [
    {
     "name": "stdout",
     "output_type": "stream",
     "text": [
      "The name of Horse is Harry\n",
      "The name of Rider is Sally\n"
     ]
    }
   ],
   "source": [
    "# 4.\n",
    "\n",
    "class Rider():\n",
    "    def __init__(self, name):\n",
    "        self.name = name\n",
    "\n",
    "\n",
    "class Horse():\n",
    "    def __init__(self, name, rider):\n",
    "        self.name = name\n",
    "        self.rider = rider\n",
    "\n",
    "the_rider = Rider(\"Sally\")\n",
    "harry_the_horse = Horse(\"Harry\", the_rider)\n",
    "\n",
    "print(\"The name of Horse is {}\".format(harry_the_horse.name))\n",
    "print(\"The name of Rider is {}\".format(harry_the_horse.rider.name))"
   ]
  }
 ],
 "metadata": {
  "kernelspec": {
   "display_name": "Python 3",
   "language": "python",
   "name": "python3"
  },
  "language_info": {
   "codemirror_mode": {
    "name": "ipython",
    "version": 3
   },
   "file_extension": ".py",
   "mimetype": "text/x-python",
   "name": "python",
   "nbconvert_exporter": "python",
   "pygments_lexer": "ipython3",
   "version": "3.9.6"
  }
 },
 "nbformat": 4,
 "nbformat_minor": 2
}
