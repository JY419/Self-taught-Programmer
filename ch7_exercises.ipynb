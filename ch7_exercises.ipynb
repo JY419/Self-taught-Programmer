{
 "cells": [
  {
   "cell_type": "code",
   "execution_count": 1,
   "metadata": {},
   "outputs": [
    {
     "name": "stdout",
     "output_type": "stream",
     "text": [
      "The Walking Dead\n",
      "Entrouage\n",
      "The Sopranos\n",
      "The Vampire Diaries\n"
     ]
    }
   ],
   "source": [
    "# 1. Print each item in the following list: ['The Walking Dead', 'Entrouage', 'The Sopranos', 'The Vampire Diaries']\n",
    "\n",
    "a = ['The Walking Dead', 'Entrouage', 'The Sopranos', 'The Vampire Diaries']\n",
    "\n",
    "for i in a:\n",
    "    print(i)"
   ]
  },
  {
   "cell_type": "code",
   "execution_count": 3,
   "metadata": {},
   "outputs": [
    {
     "name": "stdout",
     "output_type": "stream",
     "text": [
      "25\n",
      "26\n",
      "27\n",
      "28\n",
      "29\n",
      "30\n",
      "31\n",
      "32\n",
      "33\n",
      "34\n",
      "35\n",
      "36\n",
      "37\n",
      "38\n",
      "39\n",
      "40\n",
      "41\n",
      "42\n",
      "43\n",
      "44\n",
      "45\n",
      "46\n",
      "47\n",
      "48\n",
      "49\n",
      "50\n"
     ]
    }
   ],
   "source": [
    "# 2. Print all the numbers from 25 to 50.\n",
    "\n",
    "for i in range(25, 51):\n",
    "    print(i)"
   ]
  },
  {
   "cell_type": "code",
   "execution_count": 4,
   "metadata": {},
   "outputs": [
    {
     "name": "stdout",
     "output_type": "stream",
     "text": [
      "0\n",
      "The Walking Dead\n",
      "1\n",
      "Entrouage\n",
      "2\n",
      "The Sopranos\n",
      "3\n",
      "The Vampire Diaries\n"
     ]
    }
   ],
   "source": [
    "# 3. Print each item in the list from the first challenge and their indexes.\n",
    "\n",
    "a = ['The Walking Dead', 'Entrouage', 'The Sopranos', 'The Vampire Diaries']\n",
    "\n",
    "for i, j in enumerate(a):\n",
    "    print(i)\n",
    "    print(j)"
   ]
  },
  {
   "cell_type": "code",
   "execution_count": 7,
   "metadata": {},
   "outputs": [
    {
     "name": "stdout",
     "output_type": "stream",
     "text": [
      "Type q to quit\n",
      "You guessed it right!\n",
      "Type q to quit\n",
      "You guessed it wrong.\n",
      "Type q to quit\n",
      "You guessed it right!\n",
      "Type q to quit\n",
      "You guessed it right!\n",
      "Type q to quit\n",
      "You guessed it wrong.\n",
      "Type q to quit\n"
     ]
    }
   ],
   "source": [
    "# 4. Write a program with an infinite loop (with the option to type q to quit) and a list of numbers. Each time through the loop ask the user to guess a number on \n",
    "# the list and tell then whether or not they guessed correctly.\n",
    "\n",
    "numbers = [2, 5, 3, 19, 4]\n",
    "\n",
    "n = 0\n",
    "while True:\n",
    "    print('Type q to quit')\n",
    "    a = input('Guess a number in the list')\n",
    "    if a == 'q':\n",
    "        break\n",
    "    elif (int(a) in numbers) == True:\n",
    "        print(\"You guessed it right!\")\n",
    "    else:\n",
    "        print(\"You guessed it wrong.\")\n",
    "    n = (n + 1) % 5"
   ]
  },
  {
   "cell_type": "code",
   "execution_count": 9,
   "metadata": {},
   "outputs": [
    {
     "name": "stdout",
     "output_type": "stream",
     "text": [
      "[72, 8, 264, 664, 171, 19, 627, 1577, 1332, 148, 4884, 12284, 36, 4, 132, 332]\n"
     ]
    }
   ],
   "source": [
    "# 5. Multiply all the numbers in the list [8, 19, 148, 4] with all the numbers in the list [9, 1, 33, 83], and append each result to a third list.\n",
    "\n",
    "list1 = [8, 19, 148, 4]\n",
    "list2 = [9, 1, 33, 83]\n",
    "list3 = []\n",
    "\n",
    "for i in list1:\n",
    "    for j in list2:\n",
    "        a = i * j\n",
    "        list3.append(a)\n",
    "\n",
    "print(list3)"
   ]
  },
  {
   "cell_type": "markdown",
   "metadata": {},
   "source": [
    "Answers"
   ]
  },
  {
   "cell_type": "code",
   "execution_count": null,
   "metadata": {},
   "outputs": [],
   "source": [
    "# 1.\n",
    "\n",
    "shows = [\"The Walking Dead\", \"Entourage\", \"The Sopranos\", \"The Vampire Diaries\"]\n",
    "for show in shows:\n",
    "    print(show)"
   ]
  },
  {
   "cell_type": "code",
   "execution_count": null,
   "metadata": {},
   "outputs": [],
   "source": [
    "# 2.\n",
    "for i in range(25,51):\n",
    "    print(i)"
   ]
  },
  {
   "cell_type": "code",
   "execution_count": null,
   "metadata": {},
   "outputs": [],
   "source": [
    "# 3.\n",
    "shows = [\"The Walking Dead\", \"Entourage\", \"The Sopranos\", \"The Vampire Diaries\"]\n",
    "for index, show in enumerate(shows):\n",
    "    print(index)\n",
    "    print(show)"
   ]
  },
  {
   "cell_type": "code",
   "execution_count": 10,
   "metadata": {},
   "outputs": [
    {
     "name": "stdout",
     "output_type": "stream",
     "text": [
      "You guessed incorrectly!\n",
      "You guessed correctly!\n",
      "please type a number or q to quit.\n",
      "You guessed incorrectly!\n"
     ]
    }
   ],
   "source": [
    "# 4.\n",
    "numbers = [11, 32, 33, 15, 1]\n",
    "\n",
    "while True:\n",
    "    answer = input(\"Guess a number or type q to quit.\")\n",
    "    if answer == \"q\":\n",
    "        break\n",
    "    try:\n",
    "        answer = int(answer)\n",
    "    except ValueError:\n",
    "        print(\"please type a number or q to quit.\")\n",
    "    if answer in numbers:\n",
    "        print(\"You guessed correctly!\")\n",
    "    else:\n",
    "        print(\"You guessed incorrectly!\")"
   ]
  },
  {
   "cell_type": "code",
   "execution_count": 11,
   "metadata": {},
   "outputs": [
    {
     "name": "stdout",
     "output_type": "stream",
     "text": [
      "[72, 8, 264, 664, 171, 19, 627, 1577, 1332, 148, 4884, 12284, 36, 4, 132, 332]\n"
     ]
    }
   ],
   "source": [
    "# 5. \n",
    "list1 = [8, 19, 148, 4]\n",
    "list2 = [9, 1, 33, 83]\n",
    "list3 = []\n",
    "\n",
    "for i in list1:\n",
    "    for j in list2:\n",
    "        mult = i * j\n",
    "        list3.append(i * j)\n",
    "\n",
    "print(list3)"
   ]
  }
 ],
 "metadata": {
  "kernelspec": {
   "display_name": "Python 3",
   "language": "python",
   "name": "python3"
  },
  "language_info": {
   "codemirror_mode": {
    "name": "ipython",
    "version": 3
   },
   "file_extension": ".py",
   "mimetype": "text/x-python",
   "name": "python",
   "nbconvert_exporter": "python",
   "pygments_lexer": "ipython3",
   "version": "3.9.6"
  }
 },
 "nbformat": 4,
 "nbformat_minor": 2
}
