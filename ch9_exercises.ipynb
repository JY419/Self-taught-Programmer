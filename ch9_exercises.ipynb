{
 "cells": [
  {
   "cell_type": "code",
   "execution_count": 1,
   "metadata": {},
   "outputs": [
    {
     "name": "stdout",
     "output_type": "stream",
     "text": [
      "{\\rtf1\\ansi\\ansicpg1252\\cocoartf2639\n",
      "\\cocoatextscaling0\\cocoaplatform0{\\fonttbl\\f0\\fswiss\\fcharset0 Helvetica;}\n",
      "{\\colortbl;\\red255\\green255\\blue255;}\n",
      "{\\*\\expandedcolortbl;;}\n",
      "\\paperw11900\\paperh16840\\margl1440\\margr1440\\vieww11520\\viewh8400\\viewkind0\n",
      "\\pard\\tx566\\tx1133\\tx1700\\tx2267\\tx2834\\tx3401\\tx3968\\tx4535\\tx5102\\tx5669\\tx6236\\tx6803\\pardirnatural\\partightenfactor0\n",
      "\n",
      "\\f0\\fs24 \\cf0 This is for the test 1.\\\n",
      "\\\n",
      "This is not for the test 2.}\n"
     ]
    }
   ],
   "source": [
    "# 1. Find a file on your computer and print its contents using Python.\n",
    "\n",
    "with open('toy_file.rtf', 'r') as f:\n",
    "    print(f.read())"
   ]
  },
  {
   "cell_type": "code",
   "execution_count": 5,
   "metadata": {},
   "outputs": [],
   "source": [
    "# 2. Write a program that asks a user a question, and saves their answer to a file.\n",
    "\n",
    "ans = input('What is your name?')\n",
    "\n",
    "with open('answer_from_user.txt', 'w') as f:\n",
    "    f.write(ans)"
   ]
  },
  {
   "cell_type": "code",
   "execution_count": 8,
   "metadata": {},
   "outputs": [],
   "source": [
    "# 3. Take the items in this list of lists: [['Top Gun', 'Risky Business', 'Minority Report'], ['Titanic', 'The Revenant', 'Inception'], ['Training Day', 'Man on Fire', 'Flight']] \n",
    "# and write them to a CSV file. The data from each list should be a row in the file, with each item in the list separated by a comma.\n",
    "\n",
    "import csv\n",
    "\n",
    "movies = [['Top Gun', 'Risky Business', 'Minority Report'], ['Titanic', 'The Revenant', 'Inception'], ['Training Day', 'Man on Fire', 'Flight']]\n",
    "\n",
    "with open('some_movies.csv', 'w') as f:\n",
    "    w = csv.writer(f, delimiter=',')\n",
    "    for item in movies:\n",
    "        w.writerow(item)\n",
    "\n"
   ]
  },
  {
   "cell_type": "markdown",
   "metadata": {},
   "source": [
    "Answers"
   ]
  },
  {
   "cell_type": "code",
   "execution_count": null,
   "metadata": {},
   "outputs": [],
   "source": [
    "# 2.\n",
    "\n",
    "answer = input(\"What is your favorite color?\")\n",
    "with open(\"fav_color.txt\", \"w\") as f:\n",
    "    f.write(answer)"
   ]
  },
  {
   "cell_type": "code",
   "execution_count": null,
   "metadata": {},
   "outputs": [],
   "source": [
    "# 3.\n",
    "\n",
    "import csv\n",
    "\n",
    "movies = [[\"Top Gun\", \"Risky Business\", \"Minority Report\"], [\"Titanic\", \"The Revenant\", \"Inception\"], [\"Training Day\", \"Man on Fire\", \"Flight\"]]\n",
    "with open(\"movies.csv\", \"w\") as csvfile:\n",
    "    spamwriter = csv.writer(csvfile, delimiter=\",\")\n",
    "    for movie_list in movies:\n",
    "        spamwriter.writerow(movie_list)"
   ]
  }
 ],
 "metadata": {
  "kernelspec": {
   "display_name": "Python 3",
   "language": "python",
   "name": "python3"
  },
  "language_info": {
   "codemirror_mode": {
    "name": "ipython",
    "version": 3
   },
   "file_extension": ".py",
   "mimetype": "text/x-python",
   "name": "python",
   "nbconvert_exporter": "python",
   "pygments_lexer": "ipython3",
   "version": "3.9.6"
  }
 },
 "nbformat": 4,
 "nbformat_minor": 2
}
